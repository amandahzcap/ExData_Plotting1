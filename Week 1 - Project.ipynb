{
 "cells": [
  {
   "cell_type": "code",
   "execution_count": 1,
   "metadata": {
    "vscode": {
     "languageId": "r"
    }
   },
   "outputs": [
    {
     "name": "stderr",
     "output_type": "stream",
     "text": [
      "Warning message:\n",
      "\"package 'lubridate' was built under R version 4.1.3\"\n",
      "\n",
      "Attaching package: 'lubridate'\n",
      "\n",
      "\n",
      "The following objects are masked from 'package:base':\n",
      "\n",
      "    date, intersect, setdiff, union\n",
      "\n",
      "\n"
     ]
    }
   ],
   "source": [
    "library(lubridate)"
   ]
  },
  {
   "cell_type": "code",
   "execution_count": 2,
   "metadata": {
    "vscode": {
     "languageId": "r"
    }
   },
   "outputs": [],
   "source": [
    "## Read Data Set \n",
    "\n",
    "df <-  read.delim(file = \"household_power_consumption.txt\",\n",
    " header = TRUE,\n",
    " sep = \";\",\n",
    " dec = \".\",\n",
    " na.strings = \"?\",\n",
    " colClasses = c(NA, NA, rep (\"numeric\", 7)))"
   ]
  },
  {
   "cell_type": "code",
   "execution_count": 3,
   "metadata": {
    "vscode": {
     "languageId": "r"
    }
   },
   "outputs": [],
   "source": [
    "# Convert \"Date\" column to Date Class\n",
    "df$Date <- as.Date(df$Date, \"%e/%m/%Y\")\n",
    "\n",
    "# Convert \"Time\" column to Date Class\n",
    "df$Time <- format(strptime(df$Time, \"%H:%M:%S\"),\"%H:%M:%S\")"
   ]
  },
  {
   "cell_type": "code",
   "execution_count": 4,
   "metadata": {
    "vscode": {
     "languageId": "r"
    }
   },
   "outputs": [],
   "source": [
    "# Subset Date to chosen time: 2007-02-01 and 2007-02-02\n",
    "\n",
    "df <- df[df$Date >= \"2007-02-01\" & df$Date <= \"2007-02-02\", ]\n"
   ]
  },
  {
   "cell_type": "code",
   "execution_count": 5,
   "metadata": {
    "vscode": {
     "languageId": "r"
    }
   },
   "outputs": [
    {
     "data": {
      "text/html": [
       "<strong>png:</strong> 2"
      ],
      "text/latex": [
       "\\textbf{png:} 2"
      ],
      "text/markdown": [
       "**png:** 2"
      ],
      "text/plain": [
       "png \n",
       "  2 "
      ]
     },
     "metadata": {},
     "output_type": "display_data"
    }
   ],
   "source": [
    "## PLOT 1: Global Active Power x Frequency\n",
    "# Create PNG, 480 x 480  pixels, then plot the graphic, then save as PNG file.\n",
    "\n",
    "png(filename = \"plot1.png\", width = 480, height = 480, units = \"px\")\n",
    "hist(df$Global_active_power,\n",
    "    col = \"red\",\n",
    "    xlab = \"Global Active Power (Kilowatts)\",\n",
    "    main = \"Global Active Power\")\n",
    "dev.off()"
   ]
  },
  {
   "cell_type": "code",
   "execution_count": 6,
   "metadata": {
    "vscode": {
     "languageId": "r"
    }
   },
   "outputs": [
    {
     "data": {
      "text/html": [
       "<strong>png:</strong> 2"
      ],
      "text/latex": [
       "\\textbf{png:} 2"
      ],
      "text/markdown": [
       "**png:** 2"
      ],
      "text/plain": [
       "png \n",
       "  2 "
      ]
     },
     "metadata": {},
     "output_type": "display_data"
    }
   ],
   "source": [
    "## PLOT 2: Global Active Power x week day\n",
    "# Created new variable: date+time together\n",
    "\n",
    "try <- paste(df$Date, df$Time)\n",
    "df$DateTime <- ymd_hms(try)\n",
    "\n",
    "# Create PNG, 480 x 480  pixels, then plot the graphic, then save as PNG file.\n",
    "\n",
    "png(filename = \"plot2.png\", width = 480, height = 480, units = \"px\")\n",
    "plot(x = df$DateTime,\n",
    "    y = df$Global_active_power,\n",
    "    xlab = \"Days of the week\",\n",
    "    ylab = \"Global Active Power (Kilowatts)\",\n",
    "    type = \"l\")\n",
    "dev.off()"
   ]
  },
  {
   "cell_type": "code",
   "execution_count": 7,
   "metadata": {
    "vscode": {
     "languageId": "r"
    }
   },
   "outputs": [
    {
     "data": {
      "text/html": [
       "<strong>png:</strong> 2"
      ],
      "text/latex": [
       "\\textbf{png:} 2"
      ],
      "text/markdown": [
       "**png:** 2"
      ],
      "text/plain": [
       "png \n",
       "  2 "
      ]
     },
     "metadata": {},
     "output_type": "display_data"
    }
   ],
   "source": [
    "## PLOT 3: Energy submetering\n",
    "# Create PNG, 480 x 480  pixels, then plot the graphic, then save as PNG file.\n",
    "png(filename = \"plot3.png\", width = 480, height = 480, units = \"px\")\n",
    "plot.new()\n",
    "plot(x = df$DateTime,\n",
    "     y = df$Sub_metering_1,\n",
    "    xlab = \"Days of the week\",\n",
    "    ylab = \"Energy submetering\",\n",
    "    type = \"l\",\n",
    "    )\n",
    "lines(x = df$DateTime, y1 <- df$Sub_metering_2,  type = \"l\", col = \"red\")\n",
    "lines(x = df$DateTime, y2 <- df$Sub_metering_3,  type = \"l\", col = \"blue\")\n",
    "\n",
    "legend(\"topright\", legend = \n",
    "      c(\"Sub_metering_1\", \"Sub_metering_2\", \"Sub_metering_3\"),\n",
    "      col = c(\"black\", \"red\", \"blue\"),\n",
    "      pch = 1)\n",
    "\n",
    "dev.off()"
   ]
  },
  {
   "cell_type": "code",
   "execution_count": 8,
   "metadata": {
    "vscode": {
     "languageId": "r"
    }
   },
   "outputs": [
    {
     "data": {
      "text/html": [
       "<strong>png:</strong> 2"
      ],
      "text/latex": [
       "\\textbf{png:} 2"
      ],
      "text/markdown": [
       "**png:** 2"
      ],
      "text/plain": [
       "png \n",
       "  2 "
      ]
     },
     "metadata": {},
     "output_type": "display_data"
    }
   ],
   "source": [
    "## PLOT 4: 4 different plots\n",
    "# Create PNG, 480 x 480  pixels, then plot the graphic, then save as PNG file.\n",
    "# Plot 1 = old_Plot 2\n",
    "# Plot 2 = old_Plot 3\n",
    "# Plot 3 = Voltage x Datetime\n",
    "# Plot 4 = Global_Reactive_Power x Datetime\n",
    "\n",
    "png(filename = \"plot4.png\", width = 480, height = 480, units = \"px\")\n",
    "par(mfcol = c(2, 2))\n",
    "\n",
    "# Plot 1\n",
    "\n",
    "plot1 <- plot(x = df$DateTime,\n",
    "    y = df$Global_active_power,\n",
    "    xlab = \"Days of the week\",\n",
    "    ylab = \"Global Active Power (Kilowatts)\",\n",
    "    type = \"l\")\n",
    "\n",
    "# Plot 2\n",
    "plot2 <- plot(x = df$DateTime,\n",
    "     y = df$Sub_metering_1,\n",
    "    xlab = \"Days of the week\",\n",
    "    ylab = \"Energy submetering\",\n",
    "    type = \"l\",\n",
    "    )\n",
    "lines(x = df$DateTime, y1 <- df$Sub_metering_2,  type = \"l\", col = \"red\")\n",
    "lines(x = df$DateTime, y2 <- df$Sub_metering_3,  type = \"l\", col = \"blue\")\n",
    "\n",
    "legend(\"topright\", legend = \n",
    "      c(\"Sub_metering_1\", \"Sub_metering_2\", \"Sub_metering_3\"),\n",
    "      col = c(\"black\", \"red\", \"blue\"),\n",
    "      pch = 1)\n",
    "\n",
    "# Plot 3\n",
    "\n",
    "plot3 <- plot(x = df$DateTime,\n",
    "            y = df$Voltage,\n",
    "            xlab = \"Days of the week\",\n",
    "            ylab = \"Voltage\",\n",
    "            type = \"l\")\n",
    "\n",
    "# Plot 4\n",
    "\n",
    "plot4 <- plot(x = df$DateTime,\n",
    "            y = df$Global_reactive_power,\n",
    "            xlab = \"Days of the week\",\n",
    "            ylab = \"Global reactive power\",\n",
    "            type = \"l\")\n",
    "\n",
    "dev.off()"
   ]
  }
 ],
 "metadata": {
  "kernelspec": {
   "display_name": "R",
   "language": "R",
   "name": "ir"
  },
  "language_info": {
   "codemirror_mode": "r",
   "file_extension": ".r",
   "mimetype": "text/x-r-source",
   "name": "R",
   "pygments_lexer": "r",
   "version": "4.1.2"
  },
  "orig_nbformat": 4,
  "vscode": {
   "interpreter": {
    "hash": "43eba2052f48a37d58b862f75e230f6b20c3e0cd07151732dfb6e02a01f28569"
   }
  }
 },
 "nbformat": 4,
 "nbformat_minor": 2
}
